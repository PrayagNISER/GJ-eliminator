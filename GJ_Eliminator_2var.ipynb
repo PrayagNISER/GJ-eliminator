{
  "cells": [
    {
      "cell_type": "code",
      "execution_count": null,
      "metadata": {
        "id": "4MwDjwex8CL5"
      },
      "outputs": [],
      "source": [
        "import numpy as np"
      ]
    },
    {
      "cell_type": "code",
      "execution_count": null,
      "metadata": {
        "id": "XKTd0u4T8CL9",
        "outputId": "40a83832-dd8a-4254-951e-98e6ae0ede23"
      },
      "outputs": [
        {
          "name": "stdout",
          "output_type": "stream",
          "text": [
            "Enter a number. \n",
            "1\n",
            "Your number is 1.\n",
            "lions eat tigers\n"
          ]
        }
      ],
      "source": [
        "a = int(input ('Enter a number. \\n'))\n",
        "print (\"Your number is\", a, end ='.\\n')\n",
        "print (\"lions eat\", \"tigers\")"
      ]
    },
    {
      "cell_type": "code",
      "execution_count": null,
      "metadata": {
        "id": "fQRJzkJb8CL-",
        "outputId": "91f63baa-4827-471d-f7f6-ea2b84b0ad29"
      },
      "outputs": [
        {
          "name": "stdout",
          "output_type": "stream",
          "text": [
            "Enter a number.1\n",
            "Enter a number.2\n",
            "Enter a number.3\n",
            "Enter a number.4\n",
            "Enter a number.5\n",
            "[1, 2, 3, 4, 5]\n",
            "1\n"
          ]
        }
      ],
      "source": [
        "lst = []*5\n",
        "for i in range (5):\n",
        "    a = int(input('Enter a number.'))\n",
        "    lst.append(a)\n",
        "print(lst)\n",
        "print(lst[0])\n",
        "# int(input('Enter the coefficients of \\'x\\' in the equations.'))"
      ]
    },
    {
      "cell_type": "code",
      "execution_count": null,
      "metadata": {
        "id": "qdPjnPH08CL_",
        "outputId": "f098292e-c218-40cd-9e68-4b22de461a40"
      },
      "outputs": [
        {
          "name": "stdout",
          "output_type": "stream",
          "text": [
            "Enter the coefficients of 'x' in the equations.2\n",
            "Enter the coefficients of 'x' in the equations.5\n",
            "\n",
            "\n",
            "Enter the coefficients of 'y' in the equations.4\n",
            "Enter the coefficients of 'y' in the equations.7\n",
            "\n",
            "\n",
            "Enter the constants in the equations.3\n",
            "Enter the constants in the equations.2\n",
            "\n",
            "\n",
            "Your equations are: 2.0 x + 4.0 y = 3.0\n",
            "Your equations are: 5.0 x + 7.0 y = 2.0\n"
          ]
        }
      ],
      "source": [
        "# coefficients of x\n",
        "lstx = []*2\n",
        "for i in range (2):\n",
        "    a = float(input('Enter the coefficients of \\'x\\' in the equations.'))\n",
        "    lstx.append(a)\n",
        "print('\\n')\n",
        "\n",
        "# coefficients of y\n",
        "lsty = []*2\n",
        "for i in range (2):\n",
        "    a = float(input('Enter the coefficients of \\'y\\' in the equations.'))\n",
        "    lsty.append(a)\n",
        "print('\\n')\n",
        "\n",
        "# constant terms in the equations\n",
        "lstc = []*2\n",
        "for i in range (2):\n",
        "    a = float(input('Enter the constants in the equations.'))\n",
        "    lstc.append(a)\n",
        "print('\\n')\n",
        "\n",
        "# printing the equations\n",
        "print('Your equations are:', lstx[0], 'x', '+', lsty[0], 'y', '=', lstc[0])\n",
        "print('Your equations are:', lstx[1], 'x', '+', lsty[1], 'y', '=', lstc[1])"
      ]
    },
    {
      "cell_type": "code",
      "execution_count": null,
      "metadata": {
        "id": "QLShyp9X8CMA",
        "outputId": "e93b088c-f51b-489b-b485-b5781af353d4"
      },
      "outputs": [
        {
          "name": "stdout",
          "output_type": "stream",
          "text": [
            "[[2.0, 4.0, 3.0], [5.0, 7.0, 2.0]]\n"
          ]
        }
      ],
      "source": [
        "# coefficient matrix using a nested list\n",
        "A = [[lstx [0], lsty [0], lstc [0]], [lstx [1], lsty [1], lstc [1]]]\n",
        "print (A)"
      ]
    },
    {
      "cell_type": "code",
      "execution_count": null,
      "metadata": {
        "id": "qSB5wUjx8CMA",
        "outputId": "35c50657-45dc-4cb2-a31b-56f2db0906d8"
      },
      "outputs": [
        {
          "name": "stdout",
          "output_type": "stream",
          "text": [
            "[[2. 4. 3.]\n",
            " [5. 7. 2.]]\n"
          ]
        }
      ],
      "source": [
        "# coefficient matrix using a numpy array\n",
        "A = np.array ([[lstx [0], lsty [0], lstc [0]], [lstx [1], lsty [1], lstc [1]]])\n",
        "print (A)"
      ]
    },
    {
      "cell_type": "code",
      "execution_count": null,
      "metadata": {
        "id": "vZhd1ObA8CMA",
        "outputId": "ec105822-3ee6-4600-8cc4-9e3d51796dcf"
      },
      "outputs": [
        {
          "name": "stdout",
          "output_type": "stream",
          "text": [
            "[[ 2.  4.  3.]\n",
            " [ 0. -3.  2.]]\n"
          ]
        }
      ],
      "source": [
        "# left cor'o'ner\n",
        "l_corner = (A[1][0]/A[0][0])\n",
        "# making the coefficient matrix upper-triangular\n",
        "A[1][0] = A[1][0] - l_corner*A[0][0]\n",
        "A[1][1] = A[1][1] - l_corner*A[0][1]\n",
        "# adjusting the constants' column\n",
        "A[1][2] = A[1][2] - l_corner*A[0][2]\n"
      ]
    },
    {
      "cell_type": "code",
      "execution_count": null,
      "metadata": {
        "id": "SscFeNfB8CMB",
        "outputId": "4b342868-787e-41bc-9981-c2d2fa1b4418"
      },
      "outputs": [
        {
          "name": "stdout",
          "output_type": "stream",
          "text": [
            "[[ 2.          0.         -4.33333333]\n",
            " [ 0.         -3.         -5.5       ]]\n"
          ]
        }
      ],
      "source": [
        "# making the matrix diagonal\n",
        "#right cor'o'ner\n",
        "r_corner = A[0][1]/A[1][1]\n",
        "A[0][1] = A[0][1] - r_corner*A[1][1]\n",
        "# adjusting the constants' column\n",
        "A[0][2] = A[0][2] - r_corner*A[1][2]\n",
        "print(A)"
      ]
    },
    {
      "cell_type": "code",
      "execution_count": null,
      "metadata": {
        "id": "QSfVKDbS8CMC"
      },
      "outputs": [],
      "source": [
        "# making the coefficient matrix unit\n",
        "A[0][2] = A[0][2]/A[0][0]\n",
        "A[1][2] = A[1][2]/A[1][1]\n",
        "#\n",
        "A[0][0] = A[0][0]/A[0][0]\n",
        "A[1][1] = A[1][1]/A[1][1]"
      ]
    },
    {
      "cell_type": "code",
      "execution_count": null,
      "metadata": {
        "id": "-CCDZK6T8CMC",
        "outputId": "d79a1081-638b-4beb-e446-bda87c477106"
      },
      "outputs": [
        {
          "name": "stdout",
          "output_type": "stream",
          "text": [
            "[[ 1.          0.         -2.16666667]\n",
            " [ 0.          1.          1.83333333]]\n"
          ]
        }
      ],
      "source": [
        "print(A)"
      ]
    },
    {
      "cell_type": "code",
      "execution_count": null,
      "metadata": {
        "id": "o2BvIxgl8CMC",
        "outputId": "cff76717-bcf2-4414-c2b4-03cb97674eee"
      },
      "outputs": [
        {
          "name": "stdout",
          "output_type": "stream",
          "text": [
            "'x' is -2.1666666666666665.\n",
            "'y' is 1.8333333333333333.\n"
          ]
        }
      ],
      "source": [
        "print('\\'x\\' is', A[0][2], end = '.\\n')\n",
        "print('\\'y\\' is', A[1][2], end = '.\\n')"
      ]
    },
    {
      "cell_type": "code",
      "execution_count": null,
      "metadata": {
        "id": "yhMJmYmh8CMD"
      },
      "outputs": [],
      "source": []
    }
  ],
  "metadata": {
    "kernelspec": {
      "display_name": "Python 3",
      "language": "python",
      "name": "python3"
    },
    "language_info": {
      "codemirror_mode": {
        "name": "ipython",
        "version": 3
      },
      "file_extension": ".py",
      "mimetype": "text/x-python",
      "name": "python",
      "nbconvert_exporter": "python",
      "pygments_lexer": "ipython3",
      "version": "3.6.9"
    },
    "colab": {
      "provenance": []
    }
  },
  "nbformat": 4,
  "nbformat_minor": 0
}